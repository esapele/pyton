{
  "cells": [
    {
      "cell_type": "markdown",
      "metadata": {
        "colab_type": "text",
        "id": "view-in-github"
      },
      "source": [
        "<a href=\"https://colab.research.google.com/github/esapele/pyton/blob/main/aula_Python.ipynb\" target=\"_parent\"><img src=\"https://colab.research.google.com/assets/colab-badge.svg\" alt=\"Open In Colab\"/></a>"
      ]
    },
    {
      "cell_type": "markdown",
      "metadata": {
        "id": "oWwIJdTn3hUW"
      },
      "source": [
        "## :/ 1"
      ]
    },
    {
      "cell_type": "code",
      "execution_count": 4,
      "metadata": {
        "colab": {
          "base_uri": "https://localhost:8080/"
        },
        "id": "As7u4tl6vASU",
        "outputId": "5a3d378b-cad6-477c-e7dd-edc214609297"
      },
      "outputs": [
        {
          "name": "stdout",
          "output_type": "stream",
          "text": [
            "I Competição de Programação da Start\n"
          ]
        }
      ],
      "source": [
        "print(\"I Competição de Programação da Start\")\n",
        "ano = \"II\"\n",
        "nome = \"Competição de Programação da Start\""
      ]
    },
    {
      "cell_type": "code",
      "execution_count": 5,
      "metadata": {
        "colab": {
          "base_uri": "https://localhost:8080/"
        },
        "id": "tNj3WykCimgz",
        "outputId": "ea9e5261-5cde-4d67-b99e-e75939280546"
      },
      "outputs": [
        {
          "name": "stdout",
          "output_type": "stream",
          "text": [
            "II Competição de Programação da Start\n"
          ]
        }
      ],
      "source": [
        "ano = \"II\"\n",
        "nome = \"Competição de Programação da Start\"\n",
        "print(f\"{ano} {nome}\")"
      ]
    },
    {
      "cell_type": "markdown",
      "metadata": {
        "id": "f1KsTmx03lxi"
      },
      "source": [
        "## :0 2"
      ]
    },
    {
      "cell_type": "code",
      "execution_count": null,
      "metadata": {
        "colab": {
          "base_uri": "https://localhost:8080/"
        },
        "id": "GQRpxCIk4B_O",
        "outputId": "364eae20-4a60-4ca0-ef67-40925b3eb4f4"
      },
      "outputs": [
        {
          "name": "stdout",
          "output_type": "stream",
          "text": [
            "Os pontos totais da Ana são: 46\n",
            "Os pontos totais do Rodrigo são: 24\n",
            "Os pontos totais do Carlos são: 56\n",
            "a soma de seus pontos é: 126\n"
          ]
        }
      ],
      "source": [
        "livro_ficcao = 8\n",
        "livro_nficcao = 10\n",
        "livro_infantil = 6\n",
        "\n",
        "pontos_rodrigo = livro_ficcao + livro_nficcao + livro_infantil\n",
        "pontos_ana = 2*livro_ficcao + 0*livro_nficcao + 5*livro_infantil\n",
        "pontos_carlos = 1*livro_ficcao + 3*livro_nficcao + 3*livro_infantil\n",
        "soma_pontos = pontos_ana + pontos_rodrigo + pontos_carlos\n",
        "\n",
        "print(f\"Os pontos totais da Ana são: {pontos_ana}\")\n",
        "\n",
        "print(f\"Os pontos totais do Rodrigo são: {pontos_rodrigo}\")\n",
        "\n",
        "print(f\"Os pontos totais do Carlos são: {pontos_carlos}\")\n",
        "\n",
        "print(f\"a soma de seus pontos é: {soma_pontos}\")"
      ]
    },
    {
      "cell_type": "code",
      "execution_count": 20,
      "metadata": {
        "colab": {
          "base_uri": "https://localhost:8080/"
        },
        "id": "hoXLkcbVlM5n",
        "outputId": "44a380cc-7a12-412b-fd64-308229f286e8"
      },
      "outputs": [
        {
          "name": "stdout",
          "output_type": "stream",
          "text": [
            "os pontos totais de marcelo são 230 e sua media é de 32 pontos\n"
          ]
        }
      ],
      "source": [
        "fase_facil = 10\n",
        "fase_media = 25\n",
        "fase_dificil = 50\n",
        "fase_lendaria = 100\n",
        "fases_jogadas = 7\n",
        "\n",
        "pontos_totais = 3*fase_facil + 2*fase_media + fase_dificil + fase_lendaria\n",
        "\n",
        "media_de_pontos = pontos_totais // fases_jogadas\n",
        "\n",
        "print(f\"os pontos totais de marcelo são {pontos_totais} e sua media é de {media_de_pontos} pontos\")"
      ]
    }
  ],
  "metadata": {
    "colab": {
      "collapsed_sections": [
        "EDZC6pjHbhA8",
        "b1CiW6EUjo6L"
      ],
      "include_colab_link": true,
      "provenance": []
    },
    "kernelspec": {
      "display_name": "Python 3",
      "name": "python3"
    },
    "language_info": {
      "name": "python"
    }
  },
  "nbformat": 4,
  "nbformat_minor": 0
}
