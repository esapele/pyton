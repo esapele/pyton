{
  "nbformat": 4,
  "nbformat_minor": 0,
  "metadata": {
    "colab": {
      "provenance": [],
      "collapsed_sections": [
        "oWwIJdTn3hUW",
        "f1KsTmx03lxi"
      ],
      "include_colab_link": true
    },
    "kernelspec": {
      "name": "python3",
      "display_name": "Python 3"
    },
    "language_info": {
      "name": "python"
    }
  },
  "cells": [
    {
      "cell_type": "markdown",
      "metadata": {
        "id": "view-in-github",
        "colab_type": "text"
      },
      "source": [
        "<a href=\"https://colab.research.google.com/github/esapele/pyton/blob/main/aula_Python.ipynb\" target=\"_parent\"><img src=\"https://colab.research.google.com/assets/colab-badge.svg\" alt=\"Open In Colab\"/></a>"
      ]
    },
    {
      "cell_type": "markdown",
      "source": [
        "## :/ 1"
      ],
      "metadata": {
        "id": "oWwIJdTn3hUW"
      }
    },
    {
      "cell_type": "code",
      "source": [
        "print(\"I Competição de Programação da Start\")\n",
        "ano = \"II\"\n",
        "nome = \"Competição de Programação da Start\""
      ],
      "metadata": {
        "colab": {
          "base_uri": "https://localhost:8080/"
        },
        "id": "As7u4tl6vASU",
        "outputId": "5a3d378b-cad6-477c-e7dd-edc214609297"
      },
      "execution_count": 4,
      "outputs": [
        {
          "output_type": "stream",
          "name": "stdout",
          "text": [
            "I Competição de Programação da Start\n"
          ]
        }
      ]
    },
    {
      "cell_type": "code",
      "source": [
        "ano = \"II\"\n",
        "nome = \"Competição de Programação da Start\"\n",
        "print(f\"{ano} {nome}\")"
      ],
      "metadata": {
        "colab": {
          "base_uri": "https://localhost:8080/"
        },
        "id": "tNj3WykCimgz",
        "outputId": "ea9e5261-5cde-4d67-b99e-e75939280546"
      },
      "execution_count": 5,
      "outputs": [
        {
          "output_type": "stream",
          "name": "stdout",
          "text": [
            "II Competição de Programação da Start\n"
          ]
        }
      ]
    },
    {
      "cell_type": "markdown",
      "source": [
        "## :0 2"
      ],
      "metadata": {
        "id": "f1KsTmx03lxi"
      }
    },
    {
      "cell_type": "code",
      "source": [
        "livro_ficcao = 8\n",
        "livro_nficcao = 10\n",
        "livro_infantil = 6\n",
        "\n",
        "pontos_rodrigo = livro_ficcao + livro_nficcao + livro_infantil\n",
        "pontos_ana = 2*livro_ficcao + 0*livro_nficcao + 5*livro_infantil\n",
        "pontos_carlos = 1*livro_ficcao + 3*livro_nficcao + 3*livro_infantil\n",
        "soma_pontos = pontos_ana + pontos_rodrigo + pontos_carlos\n",
        "\n",
        "print(f\"Os pontos totais da Ana são: {pontos_ana}\")\n",
        "\n",
        "print(f\"Os pontos totais do Rodrigo são: {pontos_rodrigo}\")\n",
        "\n",
        "print(f\"Os pontos totais do Carlos são: {pontos_carlos}\")\n",
        "\n",
        "print(f\"a soma de seus pontos é: {soma_pontos}\")"
      ],
      "metadata": {
        "colab": {
          "base_uri": "https://localhost:8080/"
        },
        "id": "GQRpxCIk4B_O",
        "outputId": "364eae20-4a60-4ca0-ef67-40925b3eb4f4"
      },
      "execution_count": 23,
      "outputs": [
        {
          "output_type": "stream",
          "name": "stdout",
          "text": [
            "Os pontos totais da Ana são: 46\n",
            "Os pontos totais do Rodrigo são: 24\n",
            "Os pontos totais do Carlos são: 56\n",
            "a soma de seus pontos é: 126\n"
          ]
        }
      ]
    },
    {
      "cell_type": "code",
      "source": [
        "fase_facil = 10\n",
        "fase_media = 25\n",
        "fase_dificil = 50\n",
        "fase_lendaria = 100\n",
        "fases_jogadas = 7\n",
        "\n",
        "pontos_totais = 3*fase_facil + 2*fase_media + fase_dificil + fase_lendaria\n",
        "\n",
        "media_de_pontos = pontos_totais // fases_jogadas\n",
        "\n",
        "print(f\"os pontos totais de marcelo são {pontos_totais} e sua media é de {media_de_pontos} pontos\")"
      ],
      "metadata": {
        "colab": {
          "base_uri": "https://localhost:8080/"
        },
        "id": "hoXLkcbVlM5n",
        "outputId": "44a380cc-7a12-412b-fd64-308229f286e8"
      },
      "execution_count": 20,
      "outputs": [
        {
          "output_type": "stream",
          "name": "stdout",
          "text": [
            "os pontos totais de marcelo são 230 e sua media é de 32 pontos\n"
          ]
        }
      ]
    },
    {
      "cell_type": "markdown",
      "source": [
        "## 🌱 :P"
      ],
      "metadata": {
        "id": "LHOYfP9drlkC"
      }
    },
    {
      "cell_type": "code",
      "source": [
        "total_de_figurinhas = int(input(\"Digite o total de figurinhas: \"))\n",
        "numero_de_amigos = int(input(\"Digite o número de amigos: \"))\n",
        "figurinhas_amigo = total_de_figurinhas // (numero_de_amigos + 2)\n",
        "figurinhas_joao = 2 * figurinhas_amigo\n",
        "\n",
        "resto = total_de_figurinhas % (numero_de_amigos + 2)\n",
        "figurinhas_sobras = resto // (numero_de_amigos + 2)\n",
        "figurinhas_joao_sobras = 2 * figurinhas_sobras\n",
        "\n",
        "print(f\"João recebeu {figurinhas_joao} figurinhas\")\n",
        "print(f\"sobrou {resto} figurinhas na mochila de joão\")\n",
        "print(f\"na segunda entrega de figurinhas joão recebeu {figurinhas_joao_sobras}\")"
      ],
      "metadata": {
        "colab": {
          "base_uri": "https://localhost:8080/"
        },
        "id": "JrD5p-q5rt9S",
        "outputId": "7024da30-f1ea-4500-9d49-dbf7ba86fff0"
      },
      "execution_count": 28,
      "outputs": [
        {
          "output_type": "stream",
          "name": "stdout",
          "text": [
            "Digite o total de figurinhas: 109\n",
            "Digite o número de amigos: 4\n",
            "João recebeu 36 figurinhas\n",
            "sobrou 1 figurinhas na mochila de joão\n",
            "na segunda entrega de figurinhas joão recebeu 0\n"
          ]
        }
      ]
    }
  ]
}