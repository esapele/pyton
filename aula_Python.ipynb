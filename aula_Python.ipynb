{
  "nbformat": 4,
  "nbformat_minor": 0,
  "metadata": {
    "colab": {
      "provenance": [],
      "collapsed_sections": [
        "oWwIJdTn3hUW",
        "f1KsTmx03lxi"
      ],
      "include_colab_link": true
    },
    "kernelspec": {
      "name": "python3",
      "display_name": "Python 3"
    },
    "language_info": {
      "name": "python"
    }
  },
  "cells": [
    {
      "cell_type": "markdown",
      "metadata": {
        "id": "view-in-github",
        "colab_type": "text"
      },
      "source": [
        "<a href=\"https://colab.research.google.com/github/esapele/pyton/blob/main/aula_Python.ipynb\" target=\"_parent\"><img src=\"https://colab.research.google.com/assets/colab-badge.svg\" alt=\"Open In Colab\"/></a>"
      ]
    },
    {
      "cell_type": "markdown",
      "source": [
        "## :/ 1 ♟\n",
        "\n",
        "\n",
        "\n",
        "> ***Competição de Programação da Start***\n",
        "\n"
      ],
      "metadata": {
        "id": "oWwIJdTn3hUW"
      }
    },
    {
      "cell_type": "code",
      "source": [
        "print(\"I Competição de Programação da Start\")\n",
        "ano = \"II\"\n",
        "nome = \"Competição de Programação da Start\""
      ],
      "metadata": {
        "colab": {
          "base_uri": "https://localhost:8080/"
        },
        "id": "As7u4tl6vASU",
        "outputId": "5a3d378b-cad6-477c-e7dd-edc214609297"
      },
      "execution_count": null,
      "outputs": [
        {
          "output_type": "stream",
          "name": "stdout",
          "text": [
            "I Competição de Programação da Start\n"
          ]
        }
      ]
    },
    {
      "cell_type": "code",
      "source": [
        "ano = \"II\"\n",
        "nome = \"Competição de Programação da Start\"\n",
        "print(f\"{ano} {nome}\")"
      ],
      "metadata": {
        "colab": {
          "base_uri": "https://localhost:8080/"
        },
        "id": "tNj3WykCimgz",
        "outputId": "ea9e5261-5cde-4d67-b99e-e75939280546"
      },
      "execution_count": null,
      "outputs": [
        {
          "output_type": "stream",
          "name": "stdout",
          "text": [
            "II Competição de Programação da Start\n"
          ]
        }
      ]
    },
    {
      "cell_type": "markdown",
      "source": [
        "## :*0* *2* ⚒\n",
        "\n",
        "\n",
        "\n",
        "\n",
        "> ***livros***\n",
        "\n",
        "\n"
      ],
      "metadata": {
        "id": "f1KsTmx03lxi"
      }
    },
    {
      "cell_type": "code",
      "source": [
        "livro_ficcao = 8\n",
        "livro_nficcao = 10\n",
        "livro_infantil = 6\n",
        "\n",
        "pontos_rodrigo = livro_ficcao + livro_nficcao + livro_infantil\n",
        "pontos_ana = 2*livro_ficcao + 0*livro_nficcao + 5*livro_infantil\n",
        "pontos_carlos = 1*livro_ficcao + 3*livro_nficcao + 3*livro_infantil\n",
        "soma_pontos = pontos_ana + pontos_rodrigo + pontos_carlos\n",
        "\n",
        "print(f\"Os pontos totais da Ana são: {pontos_ana}\")\n",
        "\n",
        "print(f\"Os pontos totais do Rodrigo são: {pontos_rodrigo}\")\n",
        "\n",
        "print(f\"Os pontos totais do Carlos são: {pontos_carlos}\")\n",
        "\n",
        "print(f\"a soma de seus pontos é: {soma_pontos}\")"
      ],
      "metadata": {
        "colab": {
          "base_uri": "https://localhost:8080/"
        },
        "id": "GQRpxCIk4B_O",
        "outputId": "364eae20-4a60-4ca0-ef67-40925b3eb4f4"
      },
      "execution_count": null,
      "outputs": [
        {
          "output_type": "stream",
          "name": "stdout",
          "text": [
            "Os pontos totais da Ana são: 46\n",
            "Os pontos totais do Rodrigo são: 24\n",
            "Os pontos totais do Carlos são: 56\n",
            "a soma de seus pontos é: 126\n"
          ]
        }
      ]
    },
    {
      "cell_type": "code",
      "source": [
        "fase_facil = 10\n",
        "fase_media = 25\n",
        "fase_dificil = 50\n",
        "fase_lendaria = 100\n",
        "fases_jogadas = 7\n",
        "\n",
        "pontos_totais = 3*fase_facil + 2*fase_media + fase_dificil + fase_lendaria\n",
        "\n",
        "media_de_pontos = pontos_totais // fases_jogadas\n",
        "\n",
        "print(f\"os pontos totais de marcelo são {pontos_totais} e sua media é de {media_de_pontos} pontos\")"
      ],
      "metadata": {
        "colab": {
          "base_uri": "https://localhost:8080/"
        },
        "id": "hoXLkcbVlM5n",
        "outputId": "44a380cc-7a12-412b-fd64-308229f286e8"
      },
      "execution_count": null,
      "outputs": [
        {
          "output_type": "stream",
          "name": "stdout",
          "text": [
            "os pontos totais de marcelo são 230 e sua media é de 32 pontos\n"
          ]
        }
      ]
    },
    {
      "cell_type": "markdown",
      "source": [],
      "metadata": {
        "id": "TFcJFM7AoBUe"
      }
    },
    {
      "cell_type": "markdown",
      "source": [
        "## *🌱3*  :*P*\n",
        "\n",
        "\n",
        "> ***figurinhas de João***\n",
        "\n"
      ],
      "metadata": {
        "id": "LHOYfP9drlkC"
      }
    },
    {
      "cell_type": "code",
      "source": [
        "total_de_figurinhas = int(input(\"Digite o total de figurinhas: \"))\n",
        "numero_de_amigos = int(input(\"Digite o número de amigos: \"))\n",
        "figurinhas_amigo = total_de_figurinhas // (numero_de_amigos + 2)\n",
        "figurinhas_joao = 2 * figurinhas_amigo\n",
        "\n",
        "resto = total_de_figurinhas % (numero_de_amigos + 2)\n",
        "figurinhas_sobras = resto // (numero_de_amigos + 2)\n",
        "figurinhas_joao_sobras = 2 * figurinhas_sobras\n",
        "\n",
        "print(f\"João recebeu {figurinhas_joao} figurinhas\")\n",
        "print(f\"sobrou {resto} figurinhas na mochila de joão\")\n",
        "print(f\"na segunda entrega de figurinhas joão recebeu {figurinhas_joao_sobras}\")"
      ],
      "metadata": {
        "colab": {
          "base_uri": "https://localhost:8080/"
        },
        "id": "JrD5p-q5rt9S",
        "outputId": "7024da30-f1ea-4500-9d49-dbf7ba86fff0"
      },
      "execution_count": null,
      "outputs": [
        {
          "output_type": "stream",
          "name": "stdout",
          "text": [
            "Digite o total de figurinhas: 109\n",
            "Digite o número de amigos: 4\n",
            "João recebeu 36 figurinhas\n",
            "sobrou 1 figurinhas na mochila de joão\n",
            "na segunda entrega de figurinhas joão recebeu 0\n"
          ]
        }
      ]
    },
    {
      "cell_type": "code",
      "source": [
        "total_moedas = int(input(\"Digite o total de moedas: \"))\n",
        "numero_de_navios = int(input(\"Digite o número de navios: \"))\n",
        "piratas_por_navio = int(input(\"digite o numero de piratas por navio: \"))\n",
        "piratas = numero_de_navios * piratas_por_navio\n",
        "\n",
        "moedas_piratas = total_moedas // (piratas + 2)\n",
        "moedas_capitao = 2 * moedas_piratas\n",
        "\n",
        "resto = total_moedas % (piratas + 2)\n",
        "sobras = resto // (piratas + 2)\n",
        "capitao_sobras = 2 * sobras\n",
        "\n",
        "print(f\"O capitão recebeu {moedas_capitao} moedas\")\n",
        "print(f\"sobrou {resto} moedas com o capitão\")\n",
        "print(f\"na segunda entrega de moedas o capitão recebeu {capitao_sobras}\")"
      ],
      "metadata": {
        "colab": {
          "base_uri": "https://localhost:8080/"
        },
        "id": "WLo8vL2-kjkE",
        "outputId": "e94323b3-46b5-4ec0-8e7b-0ee964c285b5"
      },
      "execution_count": null,
      "outputs": [
        {
          "output_type": "stream",
          "name": "stdout",
          "text": [
            "Digite o total de moedas: 100\n",
            "Digite o número de navios: 3\n",
            "digite o numero de piratas por navio: 7\n",
            "O capitão recebeu 8 moedas\n",
            "sobrou 8 moedas com o capitão\n",
            "na segunda entrega de moedas o capitão recebeu 0\n"
          ]
        }
      ]
    },
    {
      "cell_type": "markdown",
      "source": [
        "## *✴* ***4***\n",
        "\n",
        "\n",
        "\n",
        "\n",
        "> ***o bondinho***\n",
        "\n",
        "\n",
        "\n",
        "\n"
      ],
      "metadata": {
        "id": "qIF7M15aoDVE"
      }
    },
    {
      "cell_type": "code",
      "source": [
        "print(\"A turma de um colégio está organizando uma excursão para a serra e, para chegar ao pico da montanha, todos os alunos e monitores devem usar um bondinho. No entanto, a cabine do bondinho tem uma capacidade máxima de 50 pessoas por viagem\")\n",
        "\n",
        "\n",
        "numero_de_alunos = int(input(\"Digite a quantidade de alunos: \"))\n",
        "numero_de_monitores = int(input(\"Digite a quantidade de monitores: \"))\n",
        "resposta_positiva = \"sim, pode ir\"\n",
        "resposta_negativa = \"não pode ir\"\n",
        "\n",
        "if numero_de_alunos + numero_de_monitores <= 50:\n",
        "    print(resposta_positiva)\n",
        "else:\n",
        "    print(resposta_negativa)"
      ],
      "metadata": {
        "colab": {
          "base_uri": "https://localhost:8080/"
        },
        "id": "K0ppeWmSo4Ds",
        "outputId": "557f6854-1fb1-4652-ee79-9d11f731d67d"
      },
      "execution_count": null,
      "outputs": [
        {
          "output_type": "stream",
          "name": "stdout",
          "text": [
            "A turma de um colégio está organizando uma excursão para a serra e, para chegar ao pico da montanha, todos os alunos e monitores devem usar um bondinho. No entanto, a cabine do bondinho tem uma capacidade máxima de 50 pessoas por viagem\n",
            "Digite a quantidade de alunos: 30\n",
            "Digite a quantidade de monitores: 10\n",
            "sim, pode ir\n"
          ]
        }
      ]
    },
    {
      "cell_type": "code",
      "source": [
        "print(\"infelizmente, o bondinho que carrega 50 pessoas está em manutenção. Agora, todos precisarão usar um bondinho menos sofisticado,que só pode levar 30 pessoas. Além disso, oito professores do colégio também participarão da excursão. \")\n",
        "\n",
        "\n",
        "\n",
        "numero_de_alunos = int(input(\"Digite a quantidade de alunos: \"))\n",
        "numero_de_monitores = int(input(\"Digite a quantidade de monitores: \"))\n",
        "professores = 8\n",
        "resposta_positiva = \"sim, pode ir\"\n",
        "resposta_negativa = \"não pode ir\"\n",
        "\n",
        "if numero_de_alunos + numero_de_monitores + professores <= 30:\n",
        "    print(resposta_positiva)\n",
        "else:\n",
        "    print(resposta_negativa)"
      ],
      "metadata": {
        "id": "-ZWjKufDpbPW"
      },
      "execution_count": null,
      "outputs": []
    },
    {
      "cell_type": "code",
      "source": [
        "resposta_positiva = \"não ultrapassa\"\n",
        "resposta_negativa = \"ultrapassa\"\n",
        "\n",
        "\n",
        "numero_convidados = int(input(\"Digite a quantidade de convidados: \"))\n",
        "numero_de_alunos = int(input(\"Digite a quantidade de alunos: \"))\n",
        "numero_de_monitores = int(input(\"Digite a quantidade de monitores: \"))\n",
        "\n",
        "if numero_convidados <= 20:\n",
        "    total_pessoas = numero_de_alunos + numero_de_monitores + numero_convidados\n",
        "    if total_pessoas <= 100:\n",
        "        print(resposta_positiva)\n",
        "    else:\n",
        "        print(resposta_negativa)\n",
        "\n",
        "\n",
        "else:\n",
        "   print(\"Têm convidados demais\")"
      ],
      "metadata": {
        "colab": {
          "base_uri": "https://localhost:8080/"
        },
        "id": "9UFqTT1rrBdn",
        "outputId": "696d3e23-20bf-459c-c9e0-930e9489d044"
      },
      "execution_count": null,
      "outputs": [
        {
          "output_type": "stream",
          "name": "stdout",
          "text": [
            "Digite a quantidade de convidados: 10\n",
            "Digite a quantidade de alunos: 5\n",
            "Digite a quantidade de monitores: 2\n",
            "não ultrapassa\n"
          ]
        }
      ]
    },
    {
      "cell_type": "markdown",
      "source": [
        "## *⏰* ***5***\n",
        "\n",
        "\n",
        "\n",
        "> *jogo Flipper*\n",
        "\n"
      ],
      "metadata": {
        "id": "9XghgudSuhpp"
      }
    },
    {
      "cell_type": "code",
      "source": [
        "P = int(input(\"Digite a posição da portinha P (0 ou 1): \"))\n",
        "R = int(input(\"Digite a posição da portinha R (0 ou 1): \"))\n",
        "\n",
        "if P == 0:\n",
        "    print(\"C\")\n",
        "elif P == 1 and R == 1:\n",
        "    print(\"A\")\n",
        "elif P == 1 and R == 0:\n",
        "    print(\"B\")\n"
      ],
      "metadata": {
        "id": "5gySIg_3vW8r"
      },
      "execution_count": null,
      "outputs": []
    },
    {
      "cell_type": "code",
      "source": [
        "P = int(input(\"Digite a posição da portinha P (0 ou 1): \"))\n",
        "R = int(input(\"Digite a posição da portinha R (0 ou 1): \"))\n",
        "q = int(input(\"Digite a posição da portinha R (0 ou 1): \"))\n",
        "\n",
        "if Q == 1:\n",
        "  print(\"D\")\n",
        "elif P == 0:\n",
        "    print(\"C\")\n",
        "elif P == 1 and R == 1:\n",
        "    print(\"A\")\n",
        "elif P == 1 and R == 0:\n",
        "    print(\"B\")\n"
      ],
      "metadata": {
        "id": "gvHuvGWDkcOy"
      },
      "execution_count": null,
      "outputs": []
    },
    {
      "cell_type": "markdown",
      "source": [],
      "metadata": {
        "id": "Kz12cYRRoKeT"
      }
    }
  ]
}